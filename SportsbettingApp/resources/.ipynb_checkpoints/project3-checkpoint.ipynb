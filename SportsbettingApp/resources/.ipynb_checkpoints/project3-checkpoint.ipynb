{
 "cells": [
  {
   "cell_type": "code",
   "execution_count": null,
   "metadata": {},
   "outputs": [],
   "source": [
    "#! pip install psycopg2\n",
    "import pandas as pd\n",
    "import sqlalchemy\n",
    "from sqlalchemy import create_engine\n",
    "import numpy as np\n",
    "!pip3 install psycopg2"
   ]
  },
  {
   "cell_type": "code",
   "execution_count": null,
   "metadata": {},
   "outputs": [],
   "source": [
    "#NFL TABLE\n",
    "NFL_file = \"../resources/NFL_Opening_Odds2.csv\"\n",
    "NFL_df = pd.read_csv(NFL_file)\n",
    "NFL_df.head()"
   ]
  },
  {
   "cell_type": "code",
   "execution_count": null,
   "metadata": {},
   "outputs": [],
   "source": [
    "#Horseracing TABLE\n",
    "Horseracing_file = \"../resources/tips2.csv\"\n",
    "Horseracing_df = pd.read_csv(Horseracing_file)\n",
    "Horseracing_df.head()"
   ]
  },
  {
   "cell_type": "code",
   "execution_count": null,
   "metadata": {},
   "outputs": [],
   "source": [
    "#UFC TABLE\n",
    "UFC1_file = \"../Resources/UFC1.csv\"\n",
    "UFC1_df = pd.read_csv(UFC1_file)\n",
    "UFC1_df.head()"
   ]
  },
  {
   "cell_type": "code",
   "execution_count": null,
   "metadata": {},
   "outputs": [],
   "source": [
    "#UFC TABLE\n",
    "ufc2_file = \"../Resources/UFC2.csv\"\n",
    "ufc2_df = pd.read_csv(ufc2_file)\n",
    "ufc2_df.head()"
   ]
  },
  {
   "cell_type": "code",
   "execution_count": null,
   "metadata": {},
   "outputs": [],
   "source": [
    "connection_string = \"postgres:postgres@localhost:5432/project3\"\n",
    "engine = create_engine(f'postgresql://{connection_string}')"
   ]
  },
  {
   "cell_type": "code",
   "execution_count": null,
   "metadata": {},
   "outputs": [],
   "source": [
    "NFL_df.to_sql(name='NFL',con=engine, if_exists='replace', index=True)\n",
    "Horseracing_df.to_sql(name='Horseracing', con=engine, if_exists='append', index=True)\n",
    "UFC1_df.to_sql(name='UFC1',con=engine, if_exists='append', index=True)\n",
    "UFC2_df.to_sql(name='UFC2', con=engine, if_exists='append', index=True)"
   ]
  },
  {
   "cell_type": "code",
   "execution_count": null,
   "metadata": {},
   "outputs": [],
   "source": []
  }
 ],
 "metadata": {
  "kernelspec": {
   "display_name": "Python 3",
   "language": "python",
   "name": "python3"
  },
  "language_info": {
   "codemirror_mode": {
    "name": "ipython",
    "version": 3
   },
   "file_extension": ".py",
   "mimetype": "text/x-python",
   "name": "python",
   "nbconvert_exporter": "python",
   "pygments_lexer": "ipython3",
   "version": "3.8.3"
  }
 },
 "nbformat": 4,
 "nbformat_minor": 4
}
